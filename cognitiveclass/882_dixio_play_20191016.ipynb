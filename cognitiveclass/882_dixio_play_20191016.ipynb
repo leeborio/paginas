{
 "cells": [
  {
   "cell_type": "code",
   "execution_count": 1,
   "metadata": {},
   "outputs": [],
   "source": [
    "personas = [\n",
    "    {'id': 0, 'name': 'a'}\n",
    "    , {'id': 1, 'name': 'b'}\n",
    "    , {'id': 2, 'name': 'c'}\n",
    "    , {'id': 3, 'name': 'd'}\n",
    "    , {'id': 4, 'name': 'e'}\n",
    "    , {'id': 5, 'name': 'f'}\n",
    "    , {'id': 6, 'name': 'g'}\n",
    "]"
   ]
  },
  {
   "cell_type": "code",
   "execution_count": 2,
   "metadata": {},
   "outputs": [],
   "source": [
    "amistades = [\n",
    "    (0, 1)\n",
    "    , (0, 5)\n",
    "    , (1, 4)\n",
    "    , (1, 2)\n",
    "    , (3, 6)\n",
    "    , (3, 4)\n",
    "    , (4, 5)\n",
    "]"
   ]
  },
  {
   "cell_type": "code",
   "execution_count": 3,
   "metadata": {},
   "outputs": [],
   "source": [
    "for p in personas:\n",
    "    p['amigos'] = []\n",
    "# personas"
   ]
  },
  {
   "cell_type": "code",
   "execution_count": 4,
   "metadata": {},
   "outputs": [
    {
     "data": {
      "text/plain": [
       "[{'id': 0, 'name': 'a', 'amigos': ['b', 'f']},\n",
       " {'id': 1, 'name': 'b', 'amigos': ['a', 'e', 'c']},\n",
       " {'id': 2, 'name': 'c', 'amigos': ['b']},\n",
       " {'id': 3, 'name': 'd', 'amigos': ['g', 'e']},\n",
       " {'id': 4, 'name': 'e', 'amigos': ['b', 'd', 'f']},\n",
       " {'id': 5, 'name': 'f', 'amigos': ['a', 'e']},\n",
       " {'id': 6, 'name': 'g', 'amigos': ['d']}]"
      ]
     },
     "execution_count": 4,
     "metadata": {},
     "output_type": "execute_result"
    }
   ],
   "source": [
    "for k, q in amistades:\n",
    "    personas[k]['amigos'].append(personas[q]['name'])\n",
    "    personas[q]['amigos'].append(personas[k]['name'])\n",
    "    \n",
    "personas"
   ]
  },
  {
   "cell_type": "code",
   "execution_count": 5,
   "metadata": {},
   "outputs": [],
   "source": [
    "def number_of_friends(ID):\n",
    "    ''' how many friends each user has? '''\n",
    "    return len(personas[ID]['amigos'])\n",
    "\n",
    "# number_of_friends(1)"
   ]
  },
  {
   "cell_type": "code",
   "execution_count": 6,
   "metadata": {},
   "outputs": [
    {
     "data": {
      "text/plain": [
       "14"
      ]
     },
     "execution_count": 6,
     "metadata": {},
     "output_type": "execute_result"
    }
   ],
   "source": [
    "total_connections = 0\n",
    "for ID in personas:\n",
    "    total_connections = total_connections + number_of_friends(ID['id'])\n",
    "    \n",
    "total_connections               "
   ]
  },
  {
   "cell_type": "raw",
   "metadata": {},
   "source": [
    "# for a in personas:\n",
    "#     print(a['name'])\n",
    "\n",
    "# for ID in personas:\n",
    "#     ID['something'] = []\n",
    "   "
   ]
  }
 ],
 "metadata": {
  "kernelspec": {
   "display_name": "Python",
   "language": "python",
   "name": "conda-env-python-py"
  },
  "language_info": {
   "codemirror_mode": {
    "name": "ipython",
    "version": 3
   },
   "file_extension": ".py",
   "mimetype": "text/x-python",
   "name": "python",
   "nbconvert_exporter": "python",
   "pygments_lexer": "ipython3",
   "version": "3.6.7"
  }
 },
 "nbformat": 4,
 "nbformat_minor": 4
}
